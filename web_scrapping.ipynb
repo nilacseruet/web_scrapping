{
 "cells": [
  {
   "cell_type": "code",
   "execution_count": 11,
   "id": "8e5660c6",
   "metadata": {},
   "outputs": [
    {
     "name": "stdout",
     "output_type": "stream",
     "text": [
      "Requirement already satisfied: requests in /Users/mahfujanilufar/anaconda3/lib/python3.11/site-packages (2.31.0)\n",
      "Requirement already satisfied: charset-normalizer<4,>=2 in /Users/mahfujanilufar/anaconda3/lib/python3.11/site-packages (from requests) (2.0.4)\n",
      "Requirement already satisfied: idna<4,>=2.5 in /Users/mahfujanilufar/anaconda3/lib/python3.11/site-packages (from requests) (3.4)\n",
      "Requirement already satisfied: urllib3<3,>=1.21.1 in /Users/mahfujanilufar/anaconda3/lib/python3.11/site-packages (from requests) (1.26.16)\n",
      "Requirement already satisfied: certifi>=2017.4.17 in /Users/mahfujanilufar/anaconda3/lib/python3.11/site-packages (from requests) (2023.7.22)\n",
      "Note: you may need to restart the kernel to use updated packages.\n"
     ]
    }
   ],
   "source": [
    "pip install requests\n",
    "pip install beautifulsoup4\n"
   ]
  },
  {
   "cell_type": "code",
   "execution_count": 2,
   "id": "99527081",
   "metadata": {},
   "outputs": [],
   "source": [
    "from bs4 import BeautifulSoup\n",
    "import requests\n"
   ]
  },
  {
   "cell_type": "code",
   "execution_count": 9,
   "id": "5328aa1b",
   "metadata": {},
   "outputs": [],
   "source": [
    "html_content = '<html><head><title>Example</title></head><body><a href=\"www.google.com\">Google</a><p> This is a sample HTML document.</p></body></html>'\n",
    "soup = BeautifulSoup(html_content, 'html.parser')"
   ]
  },
  {
   "cell_type": "code",
   "execution_count": 5,
   "id": "ece39451",
   "metadata": {},
   "outputs": [
    {
     "name": "stdout",
     "output_type": "stream",
     "text": [
      " This is a sample HTML document.\n"
     ]
    }
   ],
   "source": [
    "p_tag = soup.find('p')\n",
    "p_text = p_tag.text\n",
    "print(p_text)"
   ]
  },
  {
   "cell_type": "code",
   "execution_count": 10,
   "id": "c4514b5f",
   "metadata": {},
   "outputs": [
    {
     "name": "stdout",
     "output_type": "stream",
     "text": [
      "www.google.com\n"
     ]
    }
   ],
   "source": [
    "a_tag = soup.find('a')\n",
    "href_value = a_tag['href']\n",
    "print(href_value)"
   ]
  },
  {
   "cell_type": "code",
   "execution_count": 14,
   "id": "733ae5b1",
   "metadata": {},
   "outputs": [],
   "source": [
    "page = requests.get('https://www.examples.com/lesson')\n",
    "soup = BeautifulSoup(page.content, 'html.parser')\n",
    "content = soup.find(class_='cs-posts-area__outer')\n",
    "#content = content.find_all(class_='category-lesson')\n",
    "\n",
    "#content = str(content)"
   ]
  },
  {
   "cell_type": "code",
   "execution_count": 24,
   "id": "eb6d74a4",
   "metadata": {},
   "outputs": [
    {
     "name": "stdout",
     "output_type": "stream",
     "text": [
      "Abraham Lincoln\n",
      "Abstract Nouns\n",
      "Adding and Subtracting Within 20\n",
      "Adding Money Up To $1\n",
      "Addition Word Problems With Sums Up To 20\n",
      "Adverbs\n",
      "Age of Enlightenment\n",
      "Analyzing Passages from “Frankenstein”\n",
      "Analyzing Short Stories\n",
      "Anaphora, Antithesis, Apostrophe, Assonance, Chiasmus, and Understatement\n"
     ]
    }
   ],
   "source": [
    "i=0\n",
    "for row in content.find_all(class_=\"category-lesson\"):\n",
    "    category_name = row.find(class_=\"cs-entry__outer\")\n",
    "    cell_value = category_name.find(\"h2\")\n",
    "    cell_value = cell_value.find(\"a\")\n",
    "    cell_value = cell_value.find(\"span\").get_text()\n",
    "\n",
    "    print(cell_value)\n",
    "    i=i+1\n",
    "    if(i==10):\n",
    "        break"
   ]
  },
  {
   "cell_type": "code",
   "execution_count": 47,
   "id": "71b3bbb1",
   "metadata": {},
   "outputs": [],
   "source": [
    "import csv\n",
    "response = requests.get(\"https://en.wikipedia.org/wiki/List_of_SpongeBob_SquarePants_episodes\")\n",
    "soup = BeautifulSoup(response.content, \"html.parser\")\n",
    "table = soup.select_one(\".wikitable.plainrowheaders\")\n",
    "main = []\n",
    "with open('data.csv', mode='w') as file:\n",
    "    writer=csv.writer(file, delimiter='\\t',lineterminator='\\n')\n",
    "\n",
    "    # skip the header row\n",
    "    for row in table.find_all(\"tr\")[1:]:\n",
    "\n",
    "        # to store cell values\n",
    "        cell_values = []\n",
    "\n",
    "        # get all row cells\n",
    "        cells = row.find_all(\"td\")\n",
    "        # iterating over the list of cells in\n",
    "        # the current row\n",
    "        for cell in cells:\n",
    "            # extract the cell content\n",
    "            v= cell.get_text()\n",
    "            v = v.replace('\"', '')\n",
    "            v = v.replace(',', '')\n",
    "\n",
    "            cell_values.append(v)\n",
    "        main.append(cell_values)\n",
    "\n",
    "    writer.writerows(main)\n",
    "\n"
   ]
  },
  {
   "cell_type": "code",
   "execution_count": null,
   "id": "f4856c2a",
   "metadata": {},
   "outputs": [],
   "source": []
  }
 ],
 "metadata": {
  "kernelspec": {
   "display_name": "Python 3 (ipykernel)",
   "language": "python",
   "name": "python3"
  },
  "language_info": {
   "codemirror_mode": {
    "name": "ipython",
    "version": 3
   },
   "file_extension": ".py",
   "mimetype": "text/x-python",
   "name": "python",
   "nbconvert_exporter": "python",
   "pygments_lexer": "ipython3",
   "version": "3.11.5"
  }
 },
 "nbformat": 4,
 "nbformat_minor": 5
}
